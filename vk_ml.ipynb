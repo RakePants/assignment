{
  "nbformat": 4,
  "nbformat_minor": 0,
  "metadata": {
    "colab": {
      "provenance": []
    },
    "kernelspec": {
      "name": "python3",
      "display_name": "Python 3"
    },
    "language_info": {
      "name": "python"
    }
  },
  "cells": [
    {
      "cell_type": "markdown",
      "source": [
        "# VK ML Engineer Internship Assignment\n"
      ],
      "metadata": {
        "id": "cdBLJ4bQ_dS8"
      }
    },
    {
      "cell_type": "markdown",
      "source": [
        "## Loading data"
      ],
      "metadata": {
        "id": "SU5VVB6W_5bY"
      }
    },
    {
      "cell_type": "code",
      "source": [
        "import numpy as np\n",
        "import pandas as pd\n",
        "from sklearn.decomposition import PCA\n",
        "from sklearn.pipeline import Pipeline\n",
        "from sklearn.impute import SimpleImputer\n",
        "from sklearn.preprocessing import StandardScaler, OneHotEncoder\n",
        "from sklearn.compose import ColumnTransformer\n",
        "from sklearn.ensemble import RandomForestClassifier\n",
        "from sklearn.linear_model import LogisticRegression\n",
        "from sklearn.svm import SVC\n",
        "from sklearn.model_selection import train_test_split, cross_val_score\n",
        "from sklearn.metrics import classification_report, confusion_matrix, ndcg_score\n",
        "from sklearn.neural_network import MLPClassifier\n",
        "from joblib import dump\n",
        "import matplotlib.pyplot as plt"
      ],
      "metadata": {
        "id": "a6rusOHqGYqY"
      },
      "execution_count": 1,
      "outputs": []
    },
    {
      "cell_type": "code",
      "source": [
        "from google.colab import drive\n",
        "drive.mount(\"/content/drive\")"
      ],
      "metadata": {
        "colab": {
          "base_uri": "https://localhost:8080/"
        },
        "id": "27nctuIHGoz8",
        "outputId": "2deb6313-a16f-42d3-ebb1-fef5d5c82d11"
      },
      "execution_count": 2,
      "outputs": [
        {
          "output_type": "stream",
          "name": "stdout",
          "text": [
            "Drive already mounted at /content/drive; to attempt to forcibly remount, call drive.mount(\"/content/drive\", force_remount=True).\n"
          ]
        }
      ]
    },
    {
      "cell_type": "code",
      "execution_count": 3,
      "metadata": {
        "id": "bQF4T9IwFTHk"
      },
      "outputs": [],
      "source": [
        "# Load the datasets\n",
        "train_df = pd.read_csv('/content/drive/MyDrive/vk/train_df.csv')\n",
        "test_df = pd.read_csv('/content/drive/MyDrive/vk/test_df.csv')"
      ]
    },
    {
      "cell_type": "code",
      "source": [
        "train_df.head()"
      ],
      "metadata": {
        "colab": {
          "base_uri": "https://localhost:8080/",
          "height": 235
        },
        "id": "ZxXKA9viHDDJ",
        "outputId": "6480ddcb-c133-4d83-d8c7-04611d5a2cc1"
      },
      "execution_count": 4,
      "outputs": [
        {
          "output_type": "execute_result",
          "data": {
            "text/plain": [
              "   search_id  feature_0  feature_1  feature_2  feature_3  feature_4  \\\n",
              "0        758          9          0          0          1         20   \n",
              "1        758          9          0          0          1         20   \n",
              "2        758          9          0          0          1         20   \n",
              "3        758          9          0          0          1         20   \n",
              "4        758          9          0          0          1         20   \n",
              "\n",
              "   feature_5  feature_6  feature_7  feature_8  ...  feature_70  feature_71  \\\n",
              "0          3         40          0          3  ...    0.204682    0.271755   \n",
              "1          3         40          0          3  ...    0.195531    0.188787   \n",
              "2          3         40          0          3  ...    0.148609    0.186517   \n",
              "3          3         40          0          3  ...    0.223748    0.229039   \n",
              "4          3         40          0          3  ...    0.170935    0.249031   \n",
              "\n",
              "   feature_72  feature_73  feature_74  feature_75  feature_76  feature_77  \\\n",
              "0    0.055623           0           0           0     0.38648         0.0   \n",
              "1    0.036914           0           0           0     0.10982         0.0   \n",
              "2    0.027718           0           0           0     0.03674         0.0   \n",
              "3    0.051247           0           0           0     0.00000         0.0   \n",
              "4    0.042568           0           0           0     0.00000         0.0   \n",
              "\n",
              "   feature_78  target  \n",
              "0         0.0       0  \n",
              "1         0.0       0  \n",
              "2         0.0       0  \n",
              "3         0.0       0  \n",
              "4         0.0       0  \n",
              "\n",
              "[5 rows x 81 columns]"
            ],
            "text/html": [
              "\n",
              "  <div id=\"df-9b9f1989-d868-4673-a094-123fef715b4d\" class=\"colab-df-container\">\n",
              "    <div>\n",
              "<style scoped>\n",
              "    .dataframe tbody tr th:only-of-type {\n",
              "        vertical-align: middle;\n",
              "    }\n",
              "\n",
              "    .dataframe tbody tr th {\n",
              "        vertical-align: top;\n",
              "    }\n",
              "\n",
              "    .dataframe thead th {\n",
              "        text-align: right;\n",
              "    }\n",
              "</style>\n",
              "<table border=\"1\" class=\"dataframe\">\n",
              "  <thead>\n",
              "    <tr style=\"text-align: right;\">\n",
              "      <th></th>\n",
              "      <th>search_id</th>\n",
              "      <th>feature_0</th>\n",
              "      <th>feature_1</th>\n",
              "      <th>feature_2</th>\n",
              "      <th>feature_3</th>\n",
              "      <th>feature_4</th>\n",
              "      <th>feature_5</th>\n",
              "      <th>feature_6</th>\n",
              "      <th>feature_7</th>\n",
              "      <th>feature_8</th>\n",
              "      <th>...</th>\n",
              "      <th>feature_70</th>\n",
              "      <th>feature_71</th>\n",
              "      <th>feature_72</th>\n",
              "      <th>feature_73</th>\n",
              "      <th>feature_74</th>\n",
              "      <th>feature_75</th>\n",
              "      <th>feature_76</th>\n",
              "      <th>feature_77</th>\n",
              "      <th>feature_78</th>\n",
              "      <th>target</th>\n",
              "    </tr>\n",
              "  </thead>\n",
              "  <tbody>\n",
              "    <tr>\n",
              "      <th>0</th>\n",
              "      <td>758</td>\n",
              "      <td>9</td>\n",
              "      <td>0</td>\n",
              "      <td>0</td>\n",
              "      <td>1</td>\n",
              "      <td>20</td>\n",
              "      <td>3</td>\n",
              "      <td>40</td>\n",
              "      <td>0</td>\n",
              "      <td>3</td>\n",
              "      <td>...</td>\n",
              "      <td>0.204682</td>\n",
              "      <td>0.271755</td>\n",
              "      <td>0.055623</td>\n",
              "      <td>0</td>\n",
              "      <td>0</td>\n",
              "      <td>0</td>\n",
              "      <td>0.38648</td>\n",
              "      <td>0.0</td>\n",
              "      <td>0.0</td>\n",
              "      <td>0</td>\n",
              "    </tr>\n",
              "    <tr>\n",
              "      <th>1</th>\n",
              "      <td>758</td>\n",
              "      <td>9</td>\n",
              "      <td>0</td>\n",
              "      <td>0</td>\n",
              "      <td>1</td>\n",
              "      <td>20</td>\n",
              "      <td>3</td>\n",
              "      <td>40</td>\n",
              "      <td>0</td>\n",
              "      <td>3</td>\n",
              "      <td>...</td>\n",
              "      <td>0.195531</td>\n",
              "      <td>0.188787</td>\n",
              "      <td>0.036914</td>\n",
              "      <td>0</td>\n",
              "      <td>0</td>\n",
              "      <td>0</td>\n",
              "      <td>0.10982</td>\n",
              "      <td>0.0</td>\n",
              "      <td>0.0</td>\n",
              "      <td>0</td>\n",
              "    </tr>\n",
              "    <tr>\n",
              "      <th>2</th>\n",
              "      <td>758</td>\n",
              "      <td>9</td>\n",
              "      <td>0</td>\n",
              "      <td>0</td>\n",
              "      <td>1</td>\n",
              "      <td>20</td>\n",
              "      <td>3</td>\n",
              "      <td>40</td>\n",
              "      <td>0</td>\n",
              "      <td>3</td>\n",
              "      <td>...</td>\n",
              "      <td>0.148609</td>\n",
              "      <td>0.186517</td>\n",
              "      <td>0.027718</td>\n",
              "      <td>0</td>\n",
              "      <td>0</td>\n",
              "      <td>0</td>\n",
              "      <td>0.03674</td>\n",
              "      <td>0.0</td>\n",
              "      <td>0.0</td>\n",
              "      <td>0</td>\n",
              "    </tr>\n",
              "    <tr>\n",
              "      <th>3</th>\n",
              "      <td>758</td>\n",
              "      <td>9</td>\n",
              "      <td>0</td>\n",
              "      <td>0</td>\n",
              "      <td>1</td>\n",
              "      <td>20</td>\n",
              "      <td>3</td>\n",
              "      <td>40</td>\n",
              "      <td>0</td>\n",
              "      <td>3</td>\n",
              "      <td>...</td>\n",
              "      <td>0.223748</td>\n",
              "      <td>0.229039</td>\n",
              "      <td>0.051247</td>\n",
              "      <td>0</td>\n",
              "      <td>0</td>\n",
              "      <td>0</td>\n",
              "      <td>0.00000</td>\n",
              "      <td>0.0</td>\n",
              "      <td>0.0</td>\n",
              "      <td>0</td>\n",
              "    </tr>\n",
              "    <tr>\n",
              "      <th>4</th>\n",
              "      <td>758</td>\n",
              "      <td>9</td>\n",
              "      <td>0</td>\n",
              "      <td>0</td>\n",
              "      <td>1</td>\n",
              "      <td>20</td>\n",
              "      <td>3</td>\n",
              "      <td>40</td>\n",
              "      <td>0</td>\n",
              "      <td>3</td>\n",
              "      <td>...</td>\n",
              "      <td>0.170935</td>\n",
              "      <td>0.249031</td>\n",
              "      <td>0.042568</td>\n",
              "      <td>0</td>\n",
              "      <td>0</td>\n",
              "      <td>0</td>\n",
              "      <td>0.00000</td>\n",
              "      <td>0.0</td>\n",
              "      <td>0.0</td>\n",
              "      <td>0</td>\n",
              "    </tr>\n",
              "  </tbody>\n",
              "</table>\n",
              "<p>5 rows × 81 columns</p>\n",
              "</div>\n",
              "    <div class=\"colab-df-buttons\">\n",
              "\n",
              "  <div class=\"colab-df-container\">\n",
              "    <button class=\"colab-df-convert\" onclick=\"convertToInteractive('df-9b9f1989-d868-4673-a094-123fef715b4d')\"\n",
              "            title=\"Convert this dataframe to an interactive table.\"\n",
              "            style=\"display:none;\">\n",
              "\n",
              "  <svg xmlns=\"http://www.w3.org/2000/svg\" height=\"24px\" viewBox=\"0 -960 960 960\">\n",
              "    <path d=\"M120-120v-720h720v720H120Zm60-500h600v-160H180v160Zm220 220h160v-160H400v160Zm0 220h160v-160H400v160ZM180-400h160v-160H180v160Zm440 0h160v-160H620v160ZM180-180h160v-160H180v160Zm440 0h160v-160H620v160Z\"/>\n",
              "  </svg>\n",
              "    </button>\n",
              "\n",
              "  <style>\n",
              "    .colab-df-container {\n",
              "      display:flex;\n",
              "      gap: 12px;\n",
              "    }\n",
              "\n",
              "    .colab-df-convert {\n",
              "      background-color: #E8F0FE;\n",
              "      border: none;\n",
              "      border-radius: 50%;\n",
              "      cursor: pointer;\n",
              "      display: none;\n",
              "      fill: #1967D2;\n",
              "      height: 32px;\n",
              "      padding: 0 0 0 0;\n",
              "      width: 32px;\n",
              "    }\n",
              "\n",
              "    .colab-df-convert:hover {\n",
              "      background-color: #E2EBFA;\n",
              "      box-shadow: 0px 1px 2px rgba(60, 64, 67, 0.3), 0px 1px 3px 1px rgba(60, 64, 67, 0.15);\n",
              "      fill: #174EA6;\n",
              "    }\n",
              "\n",
              "    .colab-df-buttons div {\n",
              "      margin-bottom: 4px;\n",
              "    }\n",
              "\n",
              "    [theme=dark] .colab-df-convert {\n",
              "      background-color: #3B4455;\n",
              "      fill: #D2E3FC;\n",
              "    }\n",
              "\n",
              "    [theme=dark] .colab-df-convert:hover {\n",
              "      background-color: #434B5C;\n",
              "      box-shadow: 0px 1px 3px 1px rgba(0, 0, 0, 0.15);\n",
              "      filter: drop-shadow(0px 1px 2px rgba(0, 0, 0, 0.3));\n",
              "      fill: #FFFFFF;\n",
              "    }\n",
              "  </style>\n",
              "\n",
              "    <script>\n",
              "      const buttonEl =\n",
              "        document.querySelector('#df-9b9f1989-d868-4673-a094-123fef715b4d button.colab-df-convert');\n",
              "      buttonEl.style.display =\n",
              "        google.colab.kernel.accessAllowed ? 'block' : 'none';\n",
              "\n",
              "      async function convertToInteractive(key) {\n",
              "        const element = document.querySelector('#df-9b9f1989-d868-4673-a094-123fef715b4d');\n",
              "        const dataTable =\n",
              "          await google.colab.kernel.invokeFunction('convertToInteractive',\n",
              "                                                    [key], {});\n",
              "        if (!dataTable) return;\n",
              "\n",
              "        const docLinkHtml = 'Like what you see? Visit the ' +\n",
              "          '<a target=\"_blank\" href=https://colab.research.google.com/notebooks/data_table.ipynb>data table notebook</a>'\n",
              "          + ' to learn more about interactive tables.';\n",
              "        element.innerHTML = '';\n",
              "        dataTable['output_type'] = 'display_data';\n",
              "        await google.colab.output.renderOutput(dataTable, element);\n",
              "        const docLink = document.createElement('div');\n",
              "        docLink.innerHTML = docLinkHtml;\n",
              "        element.appendChild(docLink);\n",
              "      }\n",
              "    </script>\n",
              "  </div>\n",
              "\n",
              "\n",
              "<div id=\"df-9108686b-840e-4915-a91d-42458ec66350\">\n",
              "  <button class=\"colab-df-quickchart\" onclick=\"quickchart('df-9108686b-840e-4915-a91d-42458ec66350')\"\n",
              "            title=\"Suggest charts\"\n",
              "            style=\"display:none;\">\n",
              "\n",
              "<svg xmlns=\"http://www.w3.org/2000/svg\" height=\"24px\"viewBox=\"0 0 24 24\"\n",
              "     width=\"24px\">\n",
              "    <g>\n",
              "        <path d=\"M19 3H5c-1.1 0-2 .9-2 2v14c0 1.1.9 2 2 2h14c1.1 0 2-.9 2-2V5c0-1.1-.9-2-2-2zM9 17H7v-7h2v7zm4 0h-2V7h2v10zm4 0h-2v-4h2v4z\"/>\n",
              "    </g>\n",
              "</svg>\n",
              "  </button>\n",
              "\n",
              "<style>\n",
              "  .colab-df-quickchart {\n",
              "      --bg-color: #E8F0FE;\n",
              "      --fill-color: #1967D2;\n",
              "      --hover-bg-color: #E2EBFA;\n",
              "      --hover-fill-color: #174EA6;\n",
              "      --disabled-fill-color: #AAA;\n",
              "      --disabled-bg-color: #DDD;\n",
              "  }\n",
              "\n",
              "  [theme=dark] .colab-df-quickchart {\n",
              "      --bg-color: #3B4455;\n",
              "      --fill-color: #D2E3FC;\n",
              "      --hover-bg-color: #434B5C;\n",
              "      --hover-fill-color: #FFFFFF;\n",
              "      --disabled-bg-color: #3B4455;\n",
              "      --disabled-fill-color: #666;\n",
              "  }\n",
              "\n",
              "  .colab-df-quickchart {\n",
              "    background-color: var(--bg-color);\n",
              "    border: none;\n",
              "    border-radius: 50%;\n",
              "    cursor: pointer;\n",
              "    display: none;\n",
              "    fill: var(--fill-color);\n",
              "    height: 32px;\n",
              "    padding: 0;\n",
              "    width: 32px;\n",
              "  }\n",
              "\n",
              "  .colab-df-quickchart:hover {\n",
              "    background-color: var(--hover-bg-color);\n",
              "    box-shadow: 0 1px 2px rgba(60, 64, 67, 0.3), 0 1px 3px 1px rgba(60, 64, 67, 0.15);\n",
              "    fill: var(--button-hover-fill-color);\n",
              "  }\n",
              "\n",
              "  .colab-df-quickchart-complete:disabled,\n",
              "  .colab-df-quickchart-complete:disabled:hover {\n",
              "    background-color: var(--disabled-bg-color);\n",
              "    fill: var(--disabled-fill-color);\n",
              "    box-shadow: none;\n",
              "  }\n",
              "\n",
              "  .colab-df-spinner {\n",
              "    border: 2px solid var(--fill-color);\n",
              "    border-color: transparent;\n",
              "    border-bottom-color: var(--fill-color);\n",
              "    animation:\n",
              "      spin 1s steps(1) infinite;\n",
              "  }\n",
              "\n",
              "  @keyframes spin {\n",
              "    0% {\n",
              "      border-color: transparent;\n",
              "      border-bottom-color: var(--fill-color);\n",
              "      border-left-color: var(--fill-color);\n",
              "    }\n",
              "    20% {\n",
              "      border-color: transparent;\n",
              "      border-left-color: var(--fill-color);\n",
              "      border-top-color: var(--fill-color);\n",
              "    }\n",
              "    30% {\n",
              "      border-color: transparent;\n",
              "      border-left-color: var(--fill-color);\n",
              "      border-top-color: var(--fill-color);\n",
              "      border-right-color: var(--fill-color);\n",
              "    }\n",
              "    40% {\n",
              "      border-color: transparent;\n",
              "      border-right-color: var(--fill-color);\n",
              "      border-top-color: var(--fill-color);\n",
              "    }\n",
              "    60% {\n",
              "      border-color: transparent;\n",
              "      border-right-color: var(--fill-color);\n",
              "    }\n",
              "    80% {\n",
              "      border-color: transparent;\n",
              "      border-right-color: var(--fill-color);\n",
              "      border-bottom-color: var(--fill-color);\n",
              "    }\n",
              "    90% {\n",
              "      border-color: transparent;\n",
              "      border-bottom-color: var(--fill-color);\n",
              "    }\n",
              "  }\n",
              "</style>\n",
              "\n",
              "  <script>\n",
              "    async function quickchart(key) {\n",
              "      const quickchartButtonEl =\n",
              "        document.querySelector('#' + key + ' button');\n",
              "      quickchartButtonEl.disabled = true;  // To prevent multiple clicks.\n",
              "      quickchartButtonEl.classList.add('colab-df-spinner');\n",
              "      try {\n",
              "        const charts = await google.colab.kernel.invokeFunction(\n",
              "            'suggestCharts', [key], {});\n",
              "      } catch (error) {\n",
              "        console.error('Error during call to suggestCharts:', error);\n",
              "      }\n",
              "      quickchartButtonEl.classList.remove('colab-df-spinner');\n",
              "      quickchartButtonEl.classList.add('colab-df-quickchart-complete');\n",
              "    }\n",
              "    (() => {\n",
              "      let quickchartButtonEl =\n",
              "        document.querySelector('#df-9108686b-840e-4915-a91d-42458ec66350 button');\n",
              "      quickchartButtonEl.style.display =\n",
              "        google.colab.kernel.accessAllowed ? 'block' : 'none';\n",
              "    })();\n",
              "  </script>\n",
              "</div>\n",
              "    </div>\n",
              "  </div>\n"
            ],
            "application/vnd.google.colaboratory.intrinsic+json": {
              "type": "dataframe",
              "variable_name": "train_df"
            }
          },
          "metadata": {},
          "execution_count": 4
        }
      ]
    },
    {
      "cell_type": "code",
      "source": [
        "test_df.head()"
      ],
      "metadata": {
        "colab": {
          "base_uri": "https://localhost:8080/",
          "height": 235
        },
        "id": "JNIobfN7G8Qc",
        "outputId": "0144ab8f-e777-48d1-bf83-9582b9b1e949"
      },
      "execution_count": 5,
      "outputs": [
        {
          "output_type": "execute_result",
          "data": {
            "text/plain": [
              "   search_id  feature_0  feature_1  feature_2  feature_3  feature_4  \\\n",
              "0      10655          9          0          0          1         20   \n",
              "1      10655          9          0          0          1         20   \n",
              "2      10655          9          0          0          1         20   \n",
              "3      10655          9          0          0          1         20   \n",
              "4      10655          9          0          0          1         20   \n",
              "\n",
              "   feature_5  feature_6  feature_7  feature_8  ...  feature_70  feature_71  \\\n",
              "0          4         40          0          0  ...    0.148830    0.196644   \n",
              "1          4         40          0          0  ...    0.119724    0.174199   \n",
              "2          4         40          0          0  ...    0.160606    0.198780   \n",
              "3          4         40          0          0  ...    0.180191    0.187882   \n",
              "4          4         40          0          0  ...    0.117308    0.153586   \n",
              "\n",
              "   feature_72  feature_73  feature_74  feature_75  feature_76  feature_77  \\\n",
              "0    0.029267           0           0           0     0.03674         0.0   \n",
              "1    0.020856           0           0           0     0.00000         0.0   \n",
              "2    0.031925           0           0           0     0.00000         0.0   \n",
              "3    0.033855           0           0           0     0.00000         0.0   \n",
              "4    0.018017           0           0           0     0.00000         0.0   \n",
              "\n",
              "   feature_78  target  \n",
              "0         0.0       0  \n",
              "1         0.0       0  \n",
              "2         0.0       0  \n",
              "3         0.0       0  \n",
              "4         0.0       0  \n",
              "\n",
              "[5 rows x 81 columns]"
            ],
            "text/html": [
              "\n",
              "  <div id=\"df-33ec170f-5ecd-4f47-83db-93969fa0fe28\" class=\"colab-df-container\">\n",
              "    <div>\n",
              "<style scoped>\n",
              "    .dataframe tbody tr th:only-of-type {\n",
              "        vertical-align: middle;\n",
              "    }\n",
              "\n",
              "    .dataframe tbody tr th {\n",
              "        vertical-align: top;\n",
              "    }\n",
              "\n",
              "    .dataframe thead th {\n",
              "        text-align: right;\n",
              "    }\n",
              "</style>\n",
              "<table border=\"1\" class=\"dataframe\">\n",
              "  <thead>\n",
              "    <tr style=\"text-align: right;\">\n",
              "      <th></th>\n",
              "      <th>search_id</th>\n",
              "      <th>feature_0</th>\n",
              "      <th>feature_1</th>\n",
              "      <th>feature_2</th>\n",
              "      <th>feature_3</th>\n",
              "      <th>feature_4</th>\n",
              "      <th>feature_5</th>\n",
              "      <th>feature_6</th>\n",
              "      <th>feature_7</th>\n",
              "      <th>feature_8</th>\n",
              "      <th>...</th>\n",
              "      <th>feature_70</th>\n",
              "      <th>feature_71</th>\n",
              "      <th>feature_72</th>\n",
              "      <th>feature_73</th>\n",
              "      <th>feature_74</th>\n",
              "      <th>feature_75</th>\n",
              "      <th>feature_76</th>\n",
              "      <th>feature_77</th>\n",
              "      <th>feature_78</th>\n",
              "      <th>target</th>\n",
              "    </tr>\n",
              "  </thead>\n",
              "  <tbody>\n",
              "    <tr>\n",
              "      <th>0</th>\n",
              "      <td>10655</td>\n",
              "      <td>9</td>\n",
              "      <td>0</td>\n",
              "      <td>0</td>\n",
              "      <td>1</td>\n",
              "      <td>20</td>\n",
              "      <td>4</td>\n",
              "      <td>40</td>\n",
              "      <td>0</td>\n",
              "      <td>0</td>\n",
              "      <td>...</td>\n",
              "      <td>0.148830</td>\n",
              "      <td>0.196644</td>\n",
              "      <td>0.029267</td>\n",
              "      <td>0</td>\n",
              "      <td>0</td>\n",
              "      <td>0</td>\n",
              "      <td>0.03674</td>\n",
              "      <td>0.0</td>\n",
              "      <td>0.0</td>\n",
              "      <td>0</td>\n",
              "    </tr>\n",
              "    <tr>\n",
              "      <th>1</th>\n",
              "      <td>10655</td>\n",
              "      <td>9</td>\n",
              "      <td>0</td>\n",
              "      <td>0</td>\n",
              "      <td>1</td>\n",
              "      <td>20</td>\n",
              "      <td>4</td>\n",
              "      <td>40</td>\n",
              "      <td>0</td>\n",
              "      <td>0</td>\n",
              "      <td>...</td>\n",
              "      <td>0.119724</td>\n",
              "      <td>0.174199</td>\n",
              "      <td>0.020856</td>\n",
              "      <td>0</td>\n",
              "      <td>0</td>\n",
              "      <td>0</td>\n",
              "      <td>0.00000</td>\n",
              "      <td>0.0</td>\n",
              "      <td>0.0</td>\n",
              "      <td>0</td>\n",
              "    </tr>\n",
              "    <tr>\n",
              "      <th>2</th>\n",
              "      <td>10655</td>\n",
              "      <td>9</td>\n",
              "      <td>0</td>\n",
              "      <td>0</td>\n",
              "      <td>1</td>\n",
              "      <td>20</td>\n",
              "      <td>4</td>\n",
              "      <td>40</td>\n",
              "      <td>0</td>\n",
              "      <td>0</td>\n",
              "      <td>...</td>\n",
              "      <td>0.160606</td>\n",
              "      <td>0.198780</td>\n",
              "      <td>0.031925</td>\n",
              "      <td>0</td>\n",
              "      <td>0</td>\n",
              "      <td>0</td>\n",
              "      <td>0.00000</td>\n",
              "      <td>0.0</td>\n",
              "      <td>0.0</td>\n",
              "      <td>0</td>\n",
              "    </tr>\n",
              "    <tr>\n",
              "      <th>3</th>\n",
              "      <td>10655</td>\n",
              "      <td>9</td>\n",
              "      <td>0</td>\n",
              "      <td>0</td>\n",
              "      <td>1</td>\n",
              "      <td>20</td>\n",
              "      <td>4</td>\n",
              "      <td>40</td>\n",
              "      <td>0</td>\n",
              "      <td>0</td>\n",
              "      <td>...</td>\n",
              "      <td>0.180191</td>\n",
              "      <td>0.187882</td>\n",
              "      <td>0.033855</td>\n",
              "      <td>0</td>\n",
              "      <td>0</td>\n",
              "      <td>0</td>\n",
              "      <td>0.00000</td>\n",
              "      <td>0.0</td>\n",
              "      <td>0.0</td>\n",
              "      <td>0</td>\n",
              "    </tr>\n",
              "    <tr>\n",
              "      <th>4</th>\n",
              "      <td>10655</td>\n",
              "      <td>9</td>\n",
              "      <td>0</td>\n",
              "      <td>0</td>\n",
              "      <td>1</td>\n",
              "      <td>20</td>\n",
              "      <td>4</td>\n",
              "      <td>40</td>\n",
              "      <td>0</td>\n",
              "      <td>0</td>\n",
              "      <td>...</td>\n",
              "      <td>0.117308</td>\n",
              "      <td>0.153586</td>\n",
              "      <td>0.018017</td>\n",
              "      <td>0</td>\n",
              "      <td>0</td>\n",
              "      <td>0</td>\n",
              "      <td>0.00000</td>\n",
              "      <td>0.0</td>\n",
              "      <td>0.0</td>\n",
              "      <td>0</td>\n",
              "    </tr>\n",
              "  </tbody>\n",
              "</table>\n",
              "<p>5 rows × 81 columns</p>\n",
              "</div>\n",
              "    <div class=\"colab-df-buttons\">\n",
              "\n",
              "  <div class=\"colab-df-container\">\n",
              "    <button class=\"colab-df-convert\" onclick=\"convertToInteractive('df-33ec170f-5ecd-4f47-83db-93969fa0fe28')\"\n",
              "            title=\"Convert this dataframe to an interactive table.\"\n",
              "            style=\"display:none;\">\n",
              "\n",
              "  <svg xmlns=\"http://www.w3.org/2000/svg\" height=\"24px\" viewBox=\"0 -960 960 960\">\n",
              "    <path d=\"M120-120v-720h720v720H120Zm60-500h600v-160H180v160Zm220 220h160v-160H400v160Zm0 220h160v-160H400v160ZM180-400h160v-160H180v160Zm440 0h160v-160H620v160ZM180-180h160v-160H180v160Zm440 0h160v-160H620v160Z\"/>\n",
              "  </svg>\n",
              "    </button>\n",
              "\n",
              "  <style>\n",
              "    .colab-df-container {\n",
              "      display:flex;\n",
              "      gap: 12px;\n",
              "    }\n",
              "\n",
              "    .colab-df-convert {\n",
              "      background-color: #E8F0FE;\n",
              "      border: none;\n",
              "      border-radius: 50%;\n",
              "      cursor: pointer;\n",
              "      display: none;\n",
              "      fill: #1967D2;\n",
              "      height: 32px;\n",
              "      padding: 0 0 0 0;\n",
              "      width: 32px;\n",
              "    }\n",
              "\n",
              "    .colab-df-convert:hover {\n",
              "      background-color: #E2EBFA;\n",
              "      box-shadow: 0px 1px 2px rgba(60, 64, 67, 0.3), 0px 1px 3px 1px rgba(60, 64, 67, 0.15);\n",
              "      fill: #174EA6;\n",
              "    }\n",
              "\n",
              "    .colab-df-buttons div {\n",
              "      margin-bottom: 4px;\n",
              "    }\n",
              "\n",
              "    [theme=dark] .colab-df-convert {\n",
              "      background-color: #3B4455;\n",
              "      fill: #D2E3FC;\n",
              "    }\n",
              "\n",
              "    [theme=dark] .colab-df-convert:hover {\n",
              "      background-color: #434B5C;\n",
              "      box-shadow: 0px 1px 3px 1px rgba(0, 0, 0, 0.15);\n",
              "      filter: drop-shadow(0px 1px 2px rgba(0, 0, 0, 0.3));\n",
              "      fill: #FFFFFF;\n",
              "    }\n",
              "  </style>\n",
              "\n",
              "    <script>\n",
              "      const buttonEl =\n",
              "        document.querySelector('#df-33ec170f-5ecd-4f47-83db-93969fa0fe28 button.colab-df-convert');\n",
              "      buttonEl.style.display =\n",
              "        google.colab.kernel.accessAllowed ? 'block' : 'none';\n",
              "\n",
              "      async function convertToInteractive(key) {\n",
              "        const element = document.querySelector('#df-33ec170f-5ecd-4f47-83db-93969fa0fe28');\n",
              "        const dataTable =\n",
              "          await google.colab.kernel.invokeFunction('convertToInteractive',\n",
              "                                                    [key], {});\n",
              "        if (!dataTable) return;\n",
              "\n",
              "        const docLinkHtml = 'Like what you see? Visit the ' +\n",
              "          '<a target=\"_blank\" href=https://colab.research.google.com/notebooks/data_table.ipynb>data table notebook</a>'\n",
              "          + ' to learn more about interactive tables.';\n",
              "        element.innerHTML = '';\n",
              "        dataTable['output_type'] = 'display_data';\n",
              "        await google.colab.output.renderOutput(dataTable, element);\n",
              "        const docLink = document.createElement('div');\n",
              "        docLink.innerHTML = docLinkHtml;\n",
              "        element.appendChild(docLink);\n",
              "      }\n",
              "    </script>\n",
              "  </div>\n",
              "\n",
              "\n",
              "<div id=\"df-b562bd0d-ca09-43c2-b745-901023b94303\">\n",
              "  <button class=\"colab-df-quickchart\" onclick=\"quickchart('df-b562bd0d-ca09-43c2-b745-901023b94303')\"\n",
              "            title=\"Suggest charts\"\n",
              "            style=\"display:none;\">\n",
              "\n",
              "<svg xmlns=\"http://www.w3.org/2000/svg\" height=\"24px\"viewBox=\"0 0 24 24\"\n",
              "     width=\"24px\">\n",
              "    <g>\n",
              "        <path d=\"M19 3H5c-1.1 0-2 .9-2 2v14c0 1.1.9 2 2 2h14c1.1 0 2-.9 2-2V5c0-1.1-.9-2-2-2zM9 17H7v-7h2v7zm4 0h-2V7h2v10zm4 0h-2v-4h2v4z\"/>\n",
              "    </g>\n",
              "</svg>\n",
              "  </button>\n",
              "\n",
              "<style>\n",
              "  .colab-df-quickchart {\n",
              "      --bg-color: #E8F0FE;\n",
              "      --fill-color: #1967D2;\n",
              "      --hover-bg-color: #E2EBFA;\n",
              "      --hover-fill-color: #174EA6;\n",
              "      --disabled-fill-color: #AAA;\n",
              "      --disabled-bg-color: #DDD;\n",
              "  }\n",
              "\n",
              "  [theme=dark] .colab-df-quickchart {\n",
              "      --bg-color: #3B4455;\n",
              "      --fill-color: #D2E3FC;\n",
              "      --hover-bg-color: #434B5C;\n",
              "      --hover-fill-color: #FFFFFF;\n",
              "      --disabled-bg-color: #3B4455;\n",
              "      --disabled-fill-color: #666;\n",
              "  }\n",
              "\n",
              "  .colab-df-quickchart {\n",
              "    background-color: var(--bg-color);\n",
              "    border: none;\n",
              "    border-radius: 50%;\n",
              "    cursor: pointer;\n",
              "    display: none;\n",
              "    fill: var(--fill-color);\n",
              "    height: 32px;\n",
              "    padding: 0;\n",
              "    width: 32px;\n",
              "  }\n",
              "\n",
              "  .colab-df-quickchart:hover {\n",
              "    background-color: var(--hover-bg-color);\n",
              "    box-shadow: 0 1px 2px rgba(60, 64, 67, 0.3), 0 1px 3px 1px rgba(60, 64, 67, 0.15);\n",
              "    fill: var(--button-hover-fill-color);\n",
              "  }\n",
              "\n",
              "  .colab-df-quickchart-complete:disabled,\n",
              "  .colab-df-quickchart-complete:disabled:hover {\n",
              "    background-color: var(--disabled-bg-color);\n",
              "    fill: var(--disabled-fill-color);\n",
              "    box-shadow: none;\n",
              "  }\n",
              "\n",
              "  .colab-df-spinner {\n",
              "    border: 2px solid var(--fill-color);\n",
              "    border-color: transparent;\n",
              "    border-bottom-color: var(--fill-color);\n",
              "    animation:\n",
              "      spin 1s steps(1) infinite;\n",
              "  }\n",
              "\n",
              "  @keyframes spin {\n",
              "    0% {\n",
              "      border-color: transparent;\n",
              "      border-bottom-color: var(--fill-color);\n",
              "      border-left-color: var(--fill-color);\n",
              "    }\n",
              "    20% {\n",
              "      border-color: transparent;\n",
              "      border-left-color: var(--fill-color);\n",
              "      border-top-color: var(--fill-color);\n",
              "    }\n",
              "    30% {\n",
              "      border-color: transparent;\n",
              "      border-left-color: var(--fill-color);\n",
              "      border-top-color: var(--fill-color);\n",
              "      border-right-color: var(--fill-color);\n",
              "    }\n",
              "    40% {\n",
              "      border-color: transparent;\n",
              "      border-right-color: var(--fill-color);\n",
              "      border-top-color: var(--fill-color);\n",
              "    }\n",
              "    60% {\n",
              "      border-color: transparent;\n",
              "      border-right-color: var(--fill-color);\n",
              "    }\n",
              "    80% {\n",
              "      border-color: transparent;\n",
              "      border-right-color: var(--fill-color);\n",
              "      border-bottom-color: var(--fill-color);\n",
              "    }\n",
              "    90% {\n",
              "      border-color: transparent;\n",
              "      border-bottom-color: var(--fill-color);\n",
              "    }\n",
              "  }\n",
              "</style>\n",
              "\n",
              "  <script>\n",
              "    async function quickchart(key) {\n",
              "      const quickchartButtonEl =\n",
              "        document.querySelector('#' + key + ' button');\n",
              "      quickchartButtonEl.disabled = true;  // To prevent multiple clicks.\n",
              "      quickchartButtonEl.classList.add('colab-df-spinner');\n",
              "      try {\n",
              "        const charts = await google.colab.kernel.invokeFunction(\n",
              "            'suggestCharts', [key], {});\n",
              "      } catch (error) {\n",
              "        console.error('Error during call to suggestCharts:', error);\n",
              "      }\n",
              "      quickchartButtonEl.classList.remove('colab-df-spinner');\n",
              "      quickchartButtonEl.classList.add('colab-df-quickchart-complete');\n",
              "    }\n",
              "    (() => {\n",
              "      let quickchartButtonEl =\n",
              "        document.querySelector('#df-b562bd0d-ca09-43c2-b745-901023b94303 button');\n",
              "      quickchartButtonEl.style.display =\n",
              "        google.colab.kernel.accessAllowed ? 'block' : 'none';\n",
              "    })();\n",
              "  </script>\n",
              "</div>\n",
              "    </div>\n",
              "  </div>\n"
            ],
            "application/vnd.google.colaboratory.intrinsic+json": {
              "type": "dataframe",
              "variable_name": "test_df"
            }
          },
          "metadata": {},
          "execution_count": 5
        }
      ]
    },
    {
      "cell_type": "markdown",
      "source": [
        "Define numberic features for scaling later."
      ],
      "metadata": {
        "id": "iFZO2nXdJRhk"
      }
    },
    {
      "cell_type": "code",
      "source": [
        "numeric_features = []\n",
        "categorical_features = []\n",
        "\n",
        "for column in train_df.drop(['search_id', 'target'], axis=1):\n",
        "    unique_values = train_df[column].dropna().unique()  # Drop NaN values for accurate type check\n",
        "    # Check if the column only contains 0 and 1\n",
        "    if set(unique_values).issubset({0, 1}):\n",
        "        categorical_features.append(column)\n",
        "    else:\n",
        "        numeric_features.append(column)\n",
        "\n",
        "print(\"Categorical features:\", categorical_features)\n",
        "print(\"Numeric features:\", numeric_features)"
      ],
      "metadata": {
        "colab": {
          "base_uri": "https://localhost:8080/"
        },
        "id": "xfz49dY5VX2Y",
        "outputId": "459b4f71-ed1f-4042-b58b-4425428609f8"
      },
      "execution_count": 6,
      "outputs": [
        {
          "output_type": "stream",
          "name": "stdout",
          "text": [
            "Categorical features: ['feature_3', 'feature_9', 'feature_10', 'feature_11', 'feature_12', 'feature_13', 'feature_14', 'feature_15', 'feature_73', 'feature_74', 'feature_75']\n",
            "Numeric features: ['feature_0', 'feature_1', 'feature_2', 'feature_4', 'feature_5', 'feature_6', 'feature_7', 'feature_8', 'feature_16', 'feature_17', 'feature_18', 'feature_19', 'feature_20', 'feature_21', 'feature_22', 'feature_23', 'feature_24', 'feature_25', 'feature_26', 'feature_27', 'feature_28', 'feature_29', 'feature_30', 'feature_31', 'feature_32', 'feature_33', 'feature_34', 'feature_35', 'feature_36', 'feature_37', 'feature_38', 'feature_39', 'feature_40', 'feature_41', 'feature_42', 'feature_43', 'feature_44', 'feature_45', 'feature_46', 'feature_47', 'feature_48', 'feature_49', 'feature_50', 'feature_51', 'feature_52', 'feature_53', 'feature_54', 'feature_55', 'feature_56', 'feature_57', 'feature_58', 'feature_59', 'feature_60', 'feature_61', 'feature_62', 'feature_63', 'feature_64', 'feature_65', 'feature_66', 'feature_67', 'feature_68', 'feature_69', 'feature_70', 'feature_71', 'feature_72', 'feature_76', 'feature_77', 'feature_78']\n"
          ]
        }
      ]
    },
    {
      "cell_type": "code",
      "source": [
        "train_df['target'].value_counts()"
      ],
      "metadata": {
        "colab": {
          "base_uri": "https://localhost:8080/"
        },
        "id": "5nczHnt6Q-bB",
        "outputId": "357a64df-da18-4229-fac4-d635dbd2b5bd"
      },
      "execution_count": 7,
      "outputs": [
        {
          "output_type": "execute_result",
          "data": {
            "text/plain": [
              "0    14759\n",
              "1      322\n",
              "Name: target, dtype: int64"
            ]
          },
          "metadata": {},
          "execution_count": 7
        }
      ]
    },
    {
      "cell_type": "code",
      "source": [
        "test_df['target'].value_counts()"
      ],
      "metadata": {
        "colab": {
          "base_uri": "https://localhost:8080/"
        },
        "id": "yvzXKGexKQ8o",
        "outputId": "7fbc0d04-99b3-4637-d126-8c0e93a64f4a"
      },
      "execution_count": 8,
      "outputs": [
        {
          "output_type": "execute_result",
          "data": {
            "text/plain": [
              "0    1495\n",
              "1      34\n",
              "Name: target, dtype: int64"
            ]
          },
          "metadata": {},
          "execution_count": 8
        }
      ]
    },
    {
      "cell_type": "markdown",
      "source": [
        "## Dataset balancing\n",
        "\n"
      ],
      "metadata": {
        "id": "9Jx-VghoAXCI"
      }
    },
    {
      "cell_type": "markdown",
      "source": [
        "The dataset is heavily imbalanced."
      ],
      "metadata": {
        "id": "Veql8Xv-Inqw"
      }
    },
    {
      "cell_type": "code",
      "source": [
        "# Determine the number of instances in the minority class\n",
        "min_count = train_df['target'].value_counts().min()\n",
        "\n",
        "# Separate the majority and minority classes\n",
        "df_majority = train_df[train_df['target'] == 0]\n",
        "df_minority = train_df[train_df['target'] == 1]\n",
        "\n",
        "# Downsample the majority class\n",
        "df_majority_downsampled = df_majority.sample(min_count, random_state=42)\n",
        "\n",
        "# Combine the downsampled majority class with the original minority class\n",
        "train_balanced = pd.concat([df_majority_downsampled, df_minority]).sample(frac=1, random_state=42).reset_index(drop=True)"
      ],
      "metadata": {
        "id": "mMwh0o33TP7Z"
      },
      "execution_count": 9,
      "outputs": []
    },
    {
      "cell_type": "code",
      "source": [
        "X_train = train_balanced.drop(['search_id', 'target'], axis=1)\n",
        "y_train = train_balanced['target']\n",
        "\n",
        "X_test = test_df.drop(['search_id', 'target'], axis=1)\n",
        "y_test = test_df['target']"
      ],
      "metadata": {
        "id": "Xi_brEBVHEbd"
      },
      "execution_count": 10,
      "outputs": []
    },
    {
      "cell_type": "markdown",
      "source": [
        "\n",
        "## Data analyzing"
      ],
      "metadata": {
        "id": "MC6HwqzsAdHC"
      }
    },
    {
      "cell_type": "code",
      "source": [
        "y_train.value_counts()"
      ],
      "metadata": {
        "colab": {
          "base_uri": "https://localhost:8080/"
        },
        "id": "KwmflhDFTXRc",
        "outputId": "e3148ae3-bf19-45ab-c5ad-bf8e99fd10c9"
      },
      "execution_count": null,
      "outputs": [
        {
          "output_type": "execute_result",
          "data": {
            "text/plain": [
              "1    322\n",
              "0    322\n",
              "Name: target, dtype: int64"
            ]
          },
          "metadata": {},
          "execution_count": 12
        }
      ]
    },
    {
      "cell_type": "code",
      "source": [
        "# Standardize the features (mean=0 and variance=1)\n",
        "scaler = StandardScaler()\n",
        "X_scaled = scaler.fit_transform(X_train)\n",
        "\n",
        "# Apply PCA\n",
        "pca = PCA(n_components=2)  # Reduce to 2 dimensions for visualization\n",
        "X_pca = pca.fit_transform(X_scaled)\n",
        "\n",
        "# Create a scatter plot of the two principal components\n",
        "plt.figure(figsize=(8, 6))\n",
        "plt.scatter(X_pca[:, 0], X_pca[:, 1], c=y_train, cmap='viridis', edgecolor='k', s=40)\n",
        "plt.xlabel('First principal component')\n",
        "plt.ylabel('Second principal component')\n",
        "plt.title('PCA of Dataset')\n",
        "plt.colorbar(label='Target')\n",
        "plt.show()"
      ],
      "metadata": {
        "colab": {
          "base_uri": "https://localhost:8080/",
          "height": 564
        },
        "id": "0HWjKxMEIdIb",
        "outputId": "b016a472-93b5-48a7-a539-06a233629e21"
      },
      "execution_count": null,
      "outputs": [
        {
          "output_type": "display_data",
          "data": {
            "text/plain": [
              "<Figure size 800x600 with 2 Axes>"
            ],
            "image/png": "[encoded data removed]"
          },
          "metadata": {}
        }
      ]
    },
    {
      "cell_type": "markdown",
      "source": [
        "## Random forest"
      ],
      "metadata": {
        "id": "HM2antYjApnc"
      }
    },
    {
      "cell_type": "code",
      "source": [
        "# Create the pipeline\n",
        "rf_pipeline = Pipeline(steps=[\n",
        "    ('classifier', RandomForestClassifier(n_estimators=100, max_depth=10, min_samples_split=10, min_samples_leaf=5, max_features='sqrt'))\n",
        "])"
      ],
      "metadata": {
        "id": "lHoIvfY5MlOV"
      },
      "execution_count": null,
      "outputs": []
    },
    {
      "cell_type": "code",
      "source": [
        "# Fit the model\n",
        "rf_pipeline.fit(X_train, y_train)\n",
        "\n",
        "# Predictions and evaluations\n",
        "y_pred = rf_pipeline.predict(X_test)\n",
        "print(classification_report(y_test, y_pred))\n",
        "print(\"Confusion Matrix:\\n\", confusion_matrix(y_test, y_pred))\n",
        "print(\"Accuracy Train Score:\", rf_pipeline.score(X_train, y_train))\n",
        "print(\"Accuracy Test Score:\", rf_pipeline.score(X_test, y_test))\n",
        "\n",
        "# Cross-validation\n",
        "cv_scores = cross_val_score(rf_pipeline, X_train, y_train, cv=5)\n",
        "print(\"Average CV Score:\", cv_scores.mean())\n",
        "\n",
        "# NDCG metric\n",
        "print(f\"NDCG score: {ndcg_score(y_test.ravel().reshape(1, -1), y_pred.ravel().reshape(1, -1))}\")"
      ],
      "metadata": {
        "colab": {
          "base_uri": "https://localhost:8080/"
        },
        "id": "b3q5gqU0M1u5",
        "outputId": "3262c84c-a6df-4dbf-8e53-aa08f8502833"
      },
      "execution_count": null,
      "outputs": [
        {
          "output_type": "stream",
          "name": "stdout",
          "text": [
            "              precision    recall  f1-score   support\n",
            "\n",
            "           0       0.99      0.56      0.72      1495\n",
            "           1       0.03      0.68      0.06        34\n",
            "\n",
            "    accuracy                           0.57      1529\n",
            "   macro avg       0.51      0.62      0.39      1529\n",
            "weighted avg       0.97      0.57      0.70      1529\n",
            "\n",
            "Confusion Matrix:\n",
            " [[843 652]\n",
            " [ 11  23]]\n",
            "Accuracy Train Score: 0.9580745341614907\n",
            "Accuracy Test Score: 0.566383257030739\n",
            "Average CV Score: 0.6443677325581396\n",
            "NDCG score: 0.41664835918756554\n"
          ]
        }
      ]
    },
    {
      "cell_type": "markdown",
      "source": [
        "## Preprocessing"
      ],
      "metadata": {
        "id": "_KKx9UOjJApV"
      }
    },
    {
      "cell_type": "code",
      "source": [
        "# Define the pre-processing for numerical data\n",
        "numeric_transformer = Pipeline(steps=[\n",
        "    ('scaler', StandardScaler())  # Scale features\n",
        "])\n",
        "\n",
        "# Bundle preprocessing for numerical data\n",
        "preprocessor = ColumnTransformer(\n",
        "    transformers=[\n",
        "        ('num', numeric_transformer, numeric_features),\n",
        "    ])"
      ],
      "metadata": {
        "id": "DkOUPQi9eTQY"
      },
      "execution_count": null,
      "outputs": []
    },
    {
      "cell_type": "markdown",
      "source": [
        "## Logistic regression"
      ],
      "metadata": {
        "id": "DZN8afZXAtef"
      }
    },
    {
      "cell_type": "code",
      "source": [
        "logreg_pipeline = Pipeline(steps=[\n",
        "    ('preprocessor', preprocessor),\n",
        "    ('classifier', LogisticRegression(penalty='l1', C=0.1, solver='liblinear', max_iter=1000)),\n",
        "])"
      ],
      "metadata": {
        "id": "2e51wfqJUYXL"
      },
      "execution_count": null,
      "outputs": []
    },
    {
      "cell_type": "code",
      "source": [
        "# Fit the model\n",
        "logreg_pipeline.fit(X_train, y_train)\n",
        "\n",
        "# Predictions and evaluations\n",
        "y_pred = logreg_pipeline.predict(X_test)\n",
        "print(classification_report(y_test, y_pred))\n",
        "print(\"Confusion Matrix:\\n\", confusion_matrix(y_test, y_pred))\n",
        "print(\"Accuracy Train Score:\", logreg_pipeline.score(X_train, y_train))\n",
        "print(\"Accuracy Test Score:\", logreg_pipeline.score(X_test, y_test))\n",
        "\n",
        "# Cross-validation\n",
        "cv_scores = cross_val_score(logreg_pipeline, X_train, y_train, cv=5)\n",
        "print(\"Average CV Score:\", cv_scores.mean())\n",
        "\n",
        "print(f\"NDCG score: {ndcg_score(y_test.ravel().reshape(1, -1), y_pred.ravel().reshape(1, -1))}\")"
      ],
      "metadata": {
        "colab": {
          "base_uri": "https://localhost:8080/"
        },
        "id": "niw1cA-EUj6n",
        "outputId": "baa11201-23ee-49d0-d342-901d38651bad"
      },
      "execution_count": null,
      "outputs": [
        {
          "output_type": "stream",
          "name": "stdout",
          "text": [
            "              precision    recall  f1-score   support\n",
            "\n",
            "           0       0.99      0.63      0.77      1495\n",
            "           1       0.05      0.76      0.09        34\n",
            "\n",
            "    accuracy                           0.64      1529\n",
            "   macro avg       0.52      0.70      0.43      1529\n",
            "weighted avg       0.97      0.64      0.76      1529\n",
            "\n",
            "Confusion Matrix:\n",
            " [[946 549]\n",
            " [  8  26]]\n",
            "Accuracy Train Score: 0.6801242236024845\n",
            "Accuracy Test Score: 0.6357096141268803\n",
            "Average CV Score: 0.638202519379845\n",
            "NDCG score: 0.43877642865002264\n"
          ]
        }
      ]
    },
    {
      "cell_type": "markdown",
      "source": [
        "## SVC"
      ],
      "metadata": {
        "id": "y4bLG1vvAzYJ"
      }
    },
    {
      "cell_type": "code",
      "source": [
        "# Pipeline for using standard SVC\n",
        "svc_pipeline = Pipeline(steps=[\n",
        "    ('preprocessor', preprocessor),\n",
        "    ('classifier', SVC(C=1, gamma=0.01, max_iter=10000))  # Using SVC with a linear kernel\n",
        "])"
      ],
      "metadata": {
        "id": "XOqIy2Q7beuJ"
      },
      "execution_count": null,
      "outputs": []
    },
    {
      "cell_type": "code",
      "source": [
        "# Fit the model\n",
        "svc_pipeline.fit(X_train, y_train)\n",
        "\n",
        "# Predictions and evaluations\n",
        "y_pred = svc_pipeline.predict(X_test)\n",
        "print(classification_report(y_test, y_pred))\n",
        "print(\"Confusion Matrix:\\n\", confusion_matrix(y_test, y_pred))\n",
        "print(\"Accuracy Train Score:\", svc_pipeline.score(X_train, y_train))\n",
        "print(\"Accuracy Test Score:\", svc_pipeline.score(X_test, y_test))\n",
        "\n",
        "# Cross-validation\n",
        "cv_scores = cross_val_score(svc_pipeline, X_train, y_train, cv=5)\n",
        "print(\"Average CV Score:\", cv_scores.mean())\n",
        "\n",
        "print(f\"NDCG score: {ndcg_score(y_test.ravel().reshape(1, -1), y_pred.ravel().reshape(1, -1))}\")"
      ],
      "metadata": {
        "colab": {
          "base_uri": "https://localhost:8080/"
        },
        "id": "ap-nGF2kcBjV",
        "outputId": "d8e2e992-2605-40aa-dd9c-6be52a33901b"
      },
      "execution_count": null,
      "outputs": [
        {
          "output_type": "stream",
          "name": "stdout",
          "text": [
            "              precision    recall  f1-score   support\n",
            "\n",
            "           0       0.99      0.63      0.77      1495\n",
            "           1       0.04      0.62      0.07        34\n",
            "\n",
            "    accuracy                           0.63      1529\n",
            "   macro avg       0.51      0.63      0.42      1529\n",
            "weighted avg       0.97      0.63      0.76      1529\n",
            "\n",
            "Confusion Matrix:\n",
            " [[946 549]\n",
            " [ 13  21]]\n",
            "Accuracy Train Score: 0.8012422360248447\n",
            "Accuracy Test Score: 0.6324395029431\n",
            "Average CV Score: 0.6522044573643411\n",
            "NDCG score: 0.42086126122808665\n"
          ]
        }
      ]
    },
    {
      "cell_type": "markdown",
      "source": [
        "## MLP"
      ],
      "metadata": {
        "id": "tbYxL83SA2nb"
      }
    },
    {
      "cell_type": "code",
      "source": [
        "mlp_pipeline = Pipeline(steps=[\n",
        "    ('preprocessor', preprocessor),\n",
        "    ('classifier', MLPClassifier(hidden_layer_sizes=(50,), max_iter=100, activation='logistic', alpha=10, solver='lbfgs', random_state=42, early_stopping=True))\n",
        "])"
      ],
      "metadata": {
        "id": "wmx_a0MsdrvO"
      },
      "execution_count": null,
      "outputs": []
    },
    {
      "cell_type": "markdown",
      "source": [
        "MLP with L2 regularization. For small datasets ‘lbfgs’ can converge faster and performs better."
      ],
      "metadata": {
        "id": "9Ze8oLBO-5SX"
      }
    },
    {
      "cell_type": "code",
      "source": [
        "mlp_pipeline.fit(X_train, y_train)"
      ],
      "metadata": {
        "colab": {
          "base_uri": "https://localhost:8080/",
          "height": 192
        },
        "id": "1F-VOA6jhnEb",
        "outputId": "75eec9c9-a7d0-4aa1-c68c-955ae26d7066"
      },
      "execution_count": null,
      "outputs": [
        {
          "output_type": "execute_result",
          "data": {
            "text/plain": [
              "Pipeline(steps=[('preprocessor',\n",
              "                 ColumnTransformer(transformers=[('num',\n",
              "                                                  Pipeline(steps=[('scaler',\n",
              "                                                                   StandardScaler())]),\n",
              "                                                  ['feature_0', 'feature_1',\n",
              "                                                   'feature_2', 'feature_4',\n",
              "                                                   'feature_5', 'feature_6',\n",
              "                                                   'feature_7', 'feature_8',\n",
              "                                                   'feature_16', 'feature_17',\n",
              "                                                   'feature_18', 'feature_19',\n",
              "                                                   'feature_20', 'feature_21',\n",
              "                                                   'feature_22', 'feature_23',\n",
              "                                                   'feature_24', 'feature_25',\n",
              "                                                   'feature_26', 'feature_27',\n",
              "                                                   'feature_28', 'feature_29',\n",
              "                                                   'feature_30', 'feature_31',\n",
              "                                                   'feature_32', 'feature_33',\n",
              "                                                   'feature_34', 'feature_35',\n",
              "                                                   'feature_36', 'feature_37', ...])])),\n",
              "                ('classifier',\n",
              "                 MLPClassifier(activation='logistic', alpha=10,\n",
              "                               early_stopping=True, hidden_layer_sizes=(50,),\n",
              "                               max_iter=100, random_state=42,\n",
              "                               solver='lbfgs'))])"
            ],
            "text/html": [
              "<style>#sk-container-id-6 {color: black;background-color: white;}#sk-container-id-6 pre{padding: 0;}#sk-container-id-6 div.sk-toggleable {background-color: white;}#sk-container-id-6 label.sk-toggleable__label {cursor: pointer;display: block;width: 100%;margin-bottom: 0;padding: 0.3em;box-sizing: border-box;text-align: center;}#sk-container-id-6 label.sk-toggleable__label-arrow:before {content: \"▸\";float: left;margin-right: 0.25em;color: #696969;}#sk-container-id-6 label.sk-toggleable__label-arrow:hover:before {color: black;}#sk-container-id-6 div.sk-estimator:hover label.sk-toggleable__label-arrow:before {color: black;}#sk-container-id-6 div.sk-toggleable__content {max-height: 0;max-width: 0;overflow: hidden;text-align: left;background-color: #f0f8ff;}#sk-container-id-6 div.sk-toggleable__content pre {margin: 0.2em;color: black;border-radius: 0.25em;background-color: #f0f8ff;}#sk-container-id-6 input.sk-toggleable__control:checked~div.sk-toggleable__content {max-height: 200px;max-width: 100%;overflow: auto;}#sk-container-id-6 input.sk-toggleable__control:checked~label.sk-toggleable__label-arrow:before {content: \"▾\";}#sk-container-id-6 div.sk-estimator input.sk-toggleable__control:checked~label.sk-toggleable__label {background-color: #d4ebff;}#sk-container-id-6 div.sk-label input.sk-toggleable__control:checked~label.sk-toggleable__label {background-color: #d4ebff;}#sk-container-id-6 input.sk-hidden--visually {border: 0;clip: rect(1px 1px 1px 1px);clip: rect(1px, 1px, 1px, 1px);height: 1px;margin: -1px;overflow: hidden;padding: 0;position: absolute;width: 1px;}#sk-container-id-6 div.sk-estimator {font-family: monospace;background-color: #f0f8ff;border: 1px dotted black;border-radius: 0.25em;box-sizing: border-box;margin-bottom: 0.5em;}#sk-container-id-6 div.sk-estimator:hover {background-color: #d4ebff;}#sk-container-id-6 div.sk-parallel-item::after {content: \"\";width: 100%;border-bottom: 1px solid gray;flex-grow: 1;}#sk-container-id-6 div.sk-label:hover label.sk-toggleable__label {background-color: #d4ebff;}#sk-container-id-6 div.sk-serial::before {content: \"\";position: absolute;border-left: 1px solid gray;box-sizing: border-box;top: 0;bottom: 0;left: 50%;z-index: 0;}#sk-container-id-6 div.sk-serial {display: flex;flex-direction: column;align-items: center;background-color: white;padding-right: 0.2em;padding-left: 0.2em;position: relative;}#sk-container-id-6 div.sk-item {position: relative;z-index: 1;}#sk-container-id-6 div.sk-parallel {display: flex;align-items: stretch;justify-content: center;background-color: white;position: relative;}#sk-container-id-6 div.sk-item::before, #sk-container-id-6 div.sk-parallel-item::before {content: \"\";position: absolute;border-left: 1px solid gray;box-sizing: border-box;top: 0;bottom: 0;left: 50%;z-index: -1;}#sk-container-id-6 div.sk-parallel-item {display: flex;flex-direction: column;z-index: 1;position: relative;background-color: white;}#sk-container-id-6 div.sk-parallel-item:first-child::after {align-self: flex-end;width: 50%;}#sk-container-id-6 div.sk-parallel-item:last-child::after {align-self: flex-start;width: 50%;}#sk-container-id-6 div.sk-parallel-item:only-child::after {width: 0;}#sk-container-id-6 div.sk-dashed-wrapped {border: 1px dashed gray;margin: 0 0.4em 0.5em 0.4em;box-sizing: border-box;padding-bottom: 0.4em;background-color: white;}#sk-container-id-6 div.sk-label label {font-family: monospace;font-weight: bold;display: inline-block;line-height: 1.2em;}#sk-container-id-6 div.sk-label-container {text-align: center;}#sk-container-id-6 div.sk-container {/* jupyter's `normalize.less` sets `[hidden] { display: none; }` but bootstrap.min.css set `[hidden] { display: none !important; }` so we also need the `!important` here to be able to override the default hidden behavior on the sphinx rendered scikit-learn.org. See: https://github.com/scikit-learn/scikit-learn/issues/21755 */display: inline-block !important;position: relative;}#sk-container-id-6 div.sk-text-repr-fallback {display: none;}</style><div id=\"sk-container-id-6\" class=\"sk-top-container\"><div class=\"sk-text-repr-fallback\"><pre>Pipeline(steps=[(&#x27;preprocessor&#x27;,\n",
              "                 ColumnTransformer(transformers=[(&#x27;num&#x27;,\n",
              "                                                  Pipeline(steps=[(&#x27;scaler&#x27;,\n",
              "                                                                   StandardScaler())]),\n",
              "                                                  [&#x27;feature_0&#x27;, &#x27;feature_1&#x27;,\n",
              "                                                   &#x27;feature_2&#x27;, &#x27;feature_4&#x27;,\n",
              "                                                   &#x27;feature_5&#x27;, &#x27;feature_6&#x27;,\n",
              "                                                   &#x27;feature_7&#x27;, &#x27;feature_8&#x27;,\n",
              "                                                   &#x27;feature_16&#x27;, &#x27;feature_17&#x27;,\n",
              "                                                   &#x27;feature_18&#x27;, &#x27;feature_19&#x27;,\n",
              "                                                   &#x27;feature_20&#x27;, &#x27;feature_21&#x27;,\n",
              "                                                   &#x27;feature_22&#x27;, &#x27;feature_23&#x27;,\n",
              "                                                   &#x27;feature_24&#x27;, &#x27;feature_25&#x27;,\n",
              "                                                   &#x27;feature_26&#x27;, &#x27;feature_27&#x27;,\n",
              "                                                   &#x27;feature_28&#x27;, &#x27;feature_29&#x27;,\n",
              "                                                   &#x27;feature_30&#x27;, &#x27;feature_31&#x27;,\n",
              "                                                   &#x27;feature_32&#x27;, &#x27;feature_33&#x27;,\n",
              "                                                   &#x27;feature_34&#x27;, &#x27;feature_35&#x27;,\n",
              "                                                   &#x27;feature_36&#x27;, &#x27;feature_37&#x27;, ...])])),\n",
              "                (&#x27;classifier&#x27;,\n",
              "                 MLPClassifier(activation=&#x27;logistic&#x27;, alpha=10,\n",
              "                               early_stopping=True, hidden_layer_sizes=(50,),\n",
              "                               max_iter=100, random_state=42,\n",
              "                               solver=&#x27;lbfgs&#x27;))])</pre><b>In a Jupyter environment, please rerun this cell to show the HTML representation or trust the notebook. <br />On GitHub, the HTML representation is unable to render, please try loading this page with nbviewer.org.</b></div><div class=\"sk-container\" hidden><div class=\"sk-item sk-dashed-wrapped\"><div class=\"sk-label-container\"><div class=\"sk-label sk-toggleable\"><input class=\"sk-toggleable__control sk-hidden--visually\" id=\"sk-estimator-id-26\" type=\"checkbox\" ><label for=\"sk-estimator-id-26\" class=\"sk-toggleable__label sk-toggleable__label-arrow\">Pipeline</label><div class=\"sk-toggleable__content\"><pre>Pipeline(steps=[(&#x27;preprocessor&#x27;,\n",
              "                 ColumnTransformer(transformers=[(&#x27;num&#x27;,\n",
              "                                                  Pipeline(steps=[(&#x27;scaler&#x27;,\n",
              "                                                                   StandardScaler())]),\n",
              "                                                  [&#x27;feature_0&#x27;, &#x27;feature_1&#x27;,\n",
              "                                                   &#x27;feature_2&#x27;, &#x27;feature_4&#x27;,\n",
              "                                                   &#x27;feature_5&#x27;, &#x27;feature_6&#x27;,\n",
              "                                                   &#x27;feature_7&#x27;, &#x27;feature_8&#x27;,\n",
              "                                                   &#x27;feature_16&#x27;, &#x27;feature_17&#x27;,\n",
              "                                                   &#x27;feature_18&#x27;, &#x27;feature_19&#x27;,\n",
              "                                                   &#x27;feature_20&#x27;, &#x27;feature_21&#x27;,\n",
              "                                                   &#x27;feature_22&#x27;, &#x27;feature_23&#x27;,\n",
              "                                                   &#x27;feature_24&#x27;, &#x27;feature_25&#x27;,\n",
              "                                                   &#x27;feature_26&#x27;, &#x27;feature_27&#x27;,\n",
              "                                                   &#x27;feature_28&#x27;, &#x27;feature_29&#x27;,\n",
              "                                                   &#x27;feature_30&#x27;, &#x27;feature_31&#x27;,\n",
              "                                                   &#x27;feature_32&#x27;, &#x27;feature_33&#x27;,\n",
              "                                                   &#x27;feature_34&#x27;, &#x27;feature_35&#x27;,\n",
              "                                                   &#x27;feature_36&#x27;, &#x27;feature_37&#x27;, ...])])),\n",
              "                (&#x27;classifier&#x27;,\n",
              "                 MLPClassifier(activation=&#x27;logistic&#x27;, alpha=10,\n",
              "                               early_stopping=True, hidden_layer_sizes=(50,),\n",
              "                               max_iter=100, random_state=42,\n",
              "                               solver=&#x27;lbfgs&#x27;))])</pre></div></div></div><div class=\"sk-serial\"><div class=\"sk-item sk-dashed-wrapped\"><div class=\"sk-label-container\"><div class=\"sk-label sk-toggleable\"><input class=\"sk-toggleable__control sk-hidden--visually\" id=\"sk-estimator-id-27\" type=\"checkbox\" ><label for=\"sk-estimator-id-27\" class=\"sk-toggleable__label sk-toggleable__label-arrow\">preprocessor: ColumnTransformer</label><div class=\"sk-toggleable__content\"><pre>ColumnTransformer(transformers=[(&#x27;num&#x27;,\n",
              "                                 Pipeline(steps=[(&#x27;scaler&#x27;, StandardScaler())]),\n",
              "                                 [&#x27;feature_0&#x27;, &#x27;feature_1&#x27;, &#x27;feature_2&#x27;,\n",
              "                                  &#x27;feature_4&#x27;, &#x27;feature_5&#x27;, &#x27;feature_6&#x27;,\n",
              "                                  &#x27;feature_7&#x27;, &#x27;feature_8&#x27;, &#x27;feature_16&#x27;,\n",
              "                                  &#x27;feature_17&#x27;, &#x27;feature_18&#x27;, &#x27;feature_19&#x27;,\n",
              "                                  &#x27;feature_20&#x27;, &#x27;feature_21&#x27;, &#x27;feature_22&#x27;,\n",
              "                                  &#x27;feature_23&#x27;, &#x27;feature_24&#x27;, &#x27;feature_25&#x27;,\n",
              "                                  &#x27;feature_26&#x27;, &#x27;feature_27&#x27;, &#x27;feature_28&#x27;,\n",
              "                                  &#x27;feature_29&#x27;, &#x27;feature_30&#x27;, &#x27;feature_31&#x27;,\n",
              "                                  &#x27;feature_32&#x27;, &#x27;feature_33&#x27;, &#x27;feature_34&#x27;,\n",
              "                                  &#x27;feature_35&#x27;, &#x27;feature_36&#x27;, &#x27;feature_37&#x27;, ...])])</pre></div></div></div><div class=\"sk-parallel\"><div class=\"sk-parallel-item\"><div class=\"sk-item\"><div class=\"sk-label-container\"><div class=\"sk-label sk-toggleable\"><input class=\"sk-toggleable__control sk-hidden--visually\" id=\"sk-estimator-id-28\" type=\"checkbox\" ><label for=\"sk-estimator-id-28\" class=\"sk-toggleable__label sk-toggleable__label-arrow\">num</label><div class=\"sk-toggleable__content\"><pre>[&#x27;feature_0&#x27;, &#x27;feature_1&#x27;, &#x27;feature_2&#x27;, &#x27;feature_4&#x27;, &#x27;feature_5&#x27;, &#x27;feature_6&#x27;, &#x27;feature_7&#x27;, &#x27;feature_8&#x27;, &#x27;feature_16&#x27;, &#x27;feature_17&#x27;, &#x27;feature_18&#x27;, &#x27;feature_19&#x27;, &#x27;feature_20&#x27;, &#x27;feature_21&#x27;, &#x27;feature_22&#x27;, &#x27;feature_23&#x27;, &#x27;feature_24&#x27;, &#x27;feature_25&#x27;, &#x27;feature_26&#x27;, &#x27;feature_27&#x27;, &#x27;feature_28&#x27;, &#x27;feature_29&#x27;, &#x27;feature_30&#x27;, &#x27;feature_31&#x27;, &#x27;feature_32&#x27;, &#x27;feature_33&#x27;, &#x27;feature_34&#x27;, &#x27;feature_35&#x27;, &#x27;feature_36&#x27;, &#x27;feature_37&#x27;, &#x27;feature_38&#x27;, &#x27;feature_39&#x27;, &#x27;feature_40&#x27;, &#x27;feature_41&#x27;, &#x27;feature_42&#x27;, &#x27;feature_43&#x27;, &#x27;feature_44&#x27;, &#x27;feature_45&#x27;, &#x27;feature_46&#x27;, &#x27;feature_47&#x27;, &#x27;feature_48&#x27;, &#x27;feature_49&#x27;, &#x27;feature_50&#x27;, &#x27;feature_51&#x27;, &#x27;feature_52&#x27;, &#x27;feature_53&#x27;, &#x27;feature_54&#x27;, &#x27;feature_55&#x27;, &#x27;feature_56&#x27;, &#x27;feature_57&#x27;, &#x27;feature_58&#x27;, &#x27;feature_59&#x27;, &#x27;feature_60&#x27;, &#x27;feature_61&#x27;, &#x27;feature_62&#x27;, &#x27;feature_63&#x27;, &#x27;feature_64&#x27;, &#x27;feature_65&#x27;, &#x27;feature_66&#x27;, &#x27;feature_67&#x27;, &#x27;feature_68&#x27;, &#x27;feature_69&#x27;, &#x27;feature_70&#x27;, &#x27;feature_71&#x27;, &#x27;feature_72&#x27;, &#x27;feature_76&#x27;, &#x27;feature_77&#x27;, &#x27;feature_78&#x27;]</pre></div></div></div><div class=\"sk-serial\"><div class=\"sk-item\"><div class=\"sk-serial\"><div class=\"sk-item\"><div class=\"sk-estimator sk-toggleable\"><input class=\"sk-toggleable__control sk-hidden--visually\" id=\"sk-estimator-id-29\" type=\"checkbox\" ><label for=\"sk-estimator-id-29\" class=\"sk-toggleable__label sk-toggleable__label-arrow\">StandardScaler</label><div class=\"sk-toggleable__content\"><pre>StandardScaler()</pre></div></div></div></div></div></div></div></div></div></div><div class=\"sk-item\"><div class=\"sk-estimator sk-toggleable\"><input class=\"sk-toggleable__control sk-hidden--visually\" id=\"sk-estimator-id-30\" type=\"checkbox\" ><label for=\"sk-estimator-id-30\" class=\"sk-toggleable__label sk-toggleable__label-arrow\">MLPClassifier</label><div class=\"sk-toggleable__content\"><pre>MLPClassifier(activation=&#x27;logistic&#x27;, alpha=10, early_stopping=True,\n",
              "              hidden_layer_sizes=(50,), max_iter=100, random_state=42,\n",
              "              solver=&#x27;lbfgs&#x27;)</pre></div></div></div></div></div></div></div>"
            ]
          },
          "metadata": {},
          "execution_count": 61
        }
      ]
    },
    {
      "cell_type": "code",
      "source": [
        "# Predictions and evaluations\n",
        "y_pred = mlp_pipeline.predict(X_test)\n",
        "print(classification_report(y_test, y_pred))\n",
        "print(\"Confusion Matrix:\\n\", confusion_matrix(y_test, y_pred))\n",
        "print(\"Accuracy Train Score:\", mlp_pipeline.score(X_train, y_train))\n",
        "print(\"Accuracy Test Score:\", mlp_pipeline.score(X_test, y_test))\n",
        "print(f\"NDCG score: {ndcg_score(y_test.ravel().reshape(1, -1), y_pred.ravel().reshape(1, -1))}\")"
      ],
      "metadata": {
        "colab": {
          "base_uri": "https://localhost:8080/"
        },
        "id": "beXpajiweZmi",
        "outputId": "37302f39-9e7f-40fe-c9f9-55a0aa8b9dc0"
      },
      "execution_count": null,
      "outputs": [
        {
          "output_type": "stream",
          "name": "stdout",
          "text": [
            "              precision    recall  f1-score   support\n",
            "\n",
            "           0       0.99      0.64      0.77      1495\n",
            "           1       0.04      0.71      0.08        34\n",
            "\n",
            "    accuracy                           0.64      1529\n",
            "   macro avg       0.52      0.67      0.43      1529\n",
            "weighted avg       0.97      0.64      0.76      1529\n",
            "\n",
            "Confusion Matrix:\n",
            " [[950 545]\n",
            " [ 10  24]]\n",
            "Accuracy Train Score: 0.6909937888198758\n",
            "Accuracy Test Score: 0.6370176586003924\n",
            "NDCG score: 0.43214574227842023\n"
          ]
        }
      ]
    },
    {
      "cell_type": "code",
      "source": [
        "# Cross-validation\n",
        "cv_scores = cross_val_score(mlp_pipeline, X_train, y_train, cv=5)\n",
        "print(\"Average CV Score:\", cv_scores.mean())"
      ],
      "metadata": {
        "colab": {
          "base_uri": "https://localhost:8080/"
        },
        "id": "0_imKuiXhCKi",
        "outputId": "2afd334a-81dd-46a6-c196-046967e2928f"
      },
      "execution_count": null,
      "outputs": [
        {
          "output_type": "stream",
          "name": "stdout",
          "text": [
            "Average CV Score: 0.630499031007752\n"
          ]
        }
      ]
    },
    {
      "cell_type": "markdown",
      "source": [
        "## MLP with dropout"
      ],
      "metadata": {
        "id": "3Hz_MaDXA4xk"
      }
    },
    {
      "cell_type": "code",
      "source": [
        "import torch\n",
        "import torch.nn as nn\n",
        "import torch.optim as optim\n",
        "from sklearn.metrics import accuracy_score"
      ],
      "metadata": {
        "id": "D4TuFWGq0AES"
      },
      "execution_count": null,
      "outputs": []
    },
    {
      "cell_type": "code",
      "source": [
        "scaler = StandardScaler()\n",
        "X_train_scaled = scaler.fit_transform(X_train)\n",
        "X_test_scaled = scaler.transform(X_test)\n",
        "\n",
        "# Convert scaled data to PyTorch tensors\n",
        "X_train_tensor = torch.FloatTensor(X_train_scaled)\n",
        "y_train_tensor = torch.LongTensor(y_train)\n",
        "X_test_tensor = torch.FloatTensor(X_test_scaled)\n",
        "y_test_tensor = torch.LongTensor(y_test)"
      ],
      "metadata": {
        "id": "PUh2V-b90E5N"
      },
      "execution_count": null,
      "outputs": []
    },
    {
      "cell_type": "code",
      "source": [
        "class MLP100(nn.Module):\n",
        "    def __init__(self, num_features, drop_rate=0.8):\n",
        "        super(MLP100, self).__init__()\n",
        "        self.layers = nn.Sequential()\n",
        "\n",
        "        # Add the layers dynamically\n",
        "        for i in range(100):  # 100 layers\n",
        "            if i == 0:\n",
        "                self.layers.add_module(f\"linear_{i}\", nn.Linear(num_features, num_features))\n",
        "            else:\n",
        "                self.layers.add_module(f\"dropout_{i-1}\", nn.Dropout(drop_rate))\n",
        "                self.layers.add_module(f\"linear_{i}\", nn.Linear(num_features, num_features))\n",
        "            self.layers.add_module(f\"relu_{i}\", nn.ReLU())\n",
        "\n",
        "        self.output = nn.Linear(num_features, 2)  # Binary classification\n",
        "\n",
        "    def forward(self, x):\n",
        "        x = self.layers(x)\n",
        "        x = self.output(x)\n",
        "        return x"
      ],
      "metadata": {
        "id": "stfG13NW0G0w"
      },
      "execution_count": null,
      "outputs": []
    },
    {
      "cell_type": "code",
      "source": [
        "# Instantiate the model\n",
        "model = MLP100(num_features=79)\n",
        "\n",
        "# Loss and optimizer\n",
        "criterion = nn.CrossEntropyLoss()\n",
        "optimizer = optim.LBFGS(model.parameters(), lr=0.001)"
      ],
      "metadata": {
        "id": "hyV_vdb70Ii_"
      },
      "execution_count": null,
      "outputs": []
    },
    {
      "cell_type": "code",
      "source": [
        "num_epochs = 50\n",
        "\n",
        "for epoch in range(num_epochs):\n",
        "    # Forward pass\n",
        "    outputs = model(X_train_tensor)\n",
        "    loss = criterion(outputs, y_train_tensor)\n",
        "\n",
        "    # Closure for LBFGS\n",
        "    def closure():\n",
        "        return loss\n",
        "\n",
        "    # Backward and optimize\n",
        "    optimizer.zero_grad()\n",
        "    loss.backward()\n",
        "    optimizer.step(closure)\n",
        "\n",
        "    if (epoch+1) % 10 == 0:\n",
        "        print(f'Epoch [{epoch+1}/{num_epochs}], Loss: {loss.item():.4f}')"
      ],
      "metadata": {
        "colab": {
          "base_uri": "https://localhost:8080/"
        },
        "id": "12lb5zWr0NPt",
        "outputId": "3efbc888-e82f-448e-8025-a5368fd3e26f"
      },
      "execution_count": null,
      "outputs": [
        {
          "output_type": "stream",
          "name": "stdout",
          "text": [
            "Epoch [10/50], Loss: 0.6932\n",
            "Epoch [20/50], Loss: 0.6947\n",
            "Epoch [30/50], Loss: 0.6951\n",
            "Epoch [40/50], Loss: 0.6929\n",
            "Epoch [50/50], Loss: 0.6948\n"
          ]
        }
      ]
    },
    {
      "cell_type": "code",
      "source": [
        "# Predict on the test set\n",
        "model.eval()\n",
        "with torch.no_grad():\n",
        "    outputs = model(X_test_tensor)\n",
        "    _, predicted = torch.max(outputs.data, 1)\n",
        "\n",
        "# Convert predictions and true values to NumPy arrays for evaluation with scikit-learn\n",
        "predicted_np = predicted.numpy()\n",
        "y_test_np = y_test_tensor.numpy()\n",
        "\n",
        "# Evaluation metrics\n",
        "print(classification_report(y_test_np, predicted_np))\n",
        "print(\"Confusion Matrix:\\n\", confusion_matrix(y_test_np, predicted_np))\n",
        "print(\"Accuracy Score:\", accuracy_score(y_test_np, predicted_np))\n",
        "print(f\"NDCG score: {ndcg_score(y_test_np.reshape(1, -1), predicted_np.reshape(1, -1))}\")"
      ],
      "metadata": {
        "colab": {
          "base_uri": "https://localhost:8080/"
        },
        "id": "kd2nfd7t0QTQ",
        "outputId": "b4f7dc0f-fe1f-42e1-8bc3-653a1eb68a1f"
      },
      "execution_count": null,
      "outputs": [
        {
          "output_type": "stream",
          "name": "stdout",
          "text": [
            "              precision    recall  f1-score   support\n",
            "\n",
            "           0       0.00      0.00      0.00      1495\n",
            "           1       0.02      1.00      0.04        34\n",
            "\n",
            "    accuracy                           0.02      1529\n",
            "   macro avg       0.01      0.50      0.02      1529\n",
            "weighted avg       0.00      0.02      0.00      1529\n",
            "\n",
            "Confusion Matrix:\n",
            " [[   0 1495]\n",
            " [   0   34]]\n",
            "Accuracy Score: 0.02223675604970569\n",
            "NDCG score: 0.3899032693596343\n"
          ]
        },
        {
          "output_type": "stream",
          "name": "stderr",
          "text": [
            "/usr/local/lib/python3.10/dist-packages/sklearn/metrics/_classification.py:1344: UndefinedMetricWarning: Precision and F-score are ill-defined and being set to 0.0 in labels with no predicted samples. Use `zero_division` parameter to control this behavior.\n",
            "  _warn_prf(average, modifier, msg_start, len(result))\n",
            "/usr/local/lib/python3.10/dist-packages/sklearn/metrics/_classification.py:1344: UndefinedMetricWarning: Precision and F-score are ill-defined and being set to 0.0 in labels with no predicted samples. Use `zero_division` parameter to control this behavior.\n",
            "  _warn_prf(average, modifier, msg_start, len(result))\n",
            "/usr/local/lib/python3.10/dist-packages/sklearn/metrics/_classification.py:1344: UndefinedMetricWarning: Precision and F-score are ill-defined and being set to 0.0 in labels with no predicted samples. Use `zero_division` parameter to control this behavior.\n",
            "  _warn_prf(average, modifier, msg_start, len(result))\n"
          ]
        }
      ]
    },
    {
      "cell_type": "markdown",
      "source": [
        "## Choosing and downloading model"
      ],
      "metadata": {
        "id": "AI0DxAmnBPBg"
      }
    },
    {
      "cell_type": "markdown",
      "source": [
        "```\n",
        "              precision    recall  f1-score   support\n",
        "\n",
        "           0       0.99      0.64      0.77      1495\n",
        "           1       0.04      0.71      0.08        34\n",
        "\n",
        "    accuracy                           0.64      1529\n",
        "   macro avg       0.52      0.67      0.43      1529\n",
        "weighted avg       0.97      0.64      0.76      1529\n",
        "\n",
        "\n",
        "Accuracy Train Score: 0.6909937888198758\n",
        "Accuracy Test Score: 0.6370176586003924\n",
        "NDCG score: 0.43214574227842023\n",
        "```"
      ],
      "metadata": {
        "id": "gCZqWnf6BsuM"
      }
    },
    {
      "cell_type": "code",
      "source": [
        "# Save the model to a file\n",
        "dump(mlp_pipeline, 'mlp_pipeline.joblib')"
      ],
      "metadata": {
        "colab": {
          "base_uri": "https://localhost:8080/"
        },
        "id": "-ykdNvMHCG7g",
        "outputId": "54cb62c8-99b8-426b-af43-bdaeb1c41808"
      },
      "execution_count": null,
      "outputs": [
        {
          "output_type": "execute_result",
          "data": {
            "text/plain": [
              "['mlp_pipeline.joblib']"
            ]
          },
          "metadata": {},
          "execution_count": 66
        }
      ]
    },
    {
      "cell_type": "code",
      "source": [],
      "metadata": {
        "id": "qXYse_DLFAJ9"
      },
      "execution_count": null,
      "outputs": []
    }
  ]
}